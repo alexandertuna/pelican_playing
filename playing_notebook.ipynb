{
 "cells": [
  {
   "cell_type": "markdown",
   "id": "80146191-b52f-447c-bb2b-f30addd70b0f",
   "metadata": {},
   "source": [
    "## Links\n",
    "- https://pelicanplatform.org/\n",
    "- https://docs.pelicanplatform.org/\n",
    "- https://github.com/PelicanPlatform/pelicanfs/"
   ]
  },
  {
   "cell_type": "code",
   "execution_count": null,
   "id": "27dbc193-5eb1-409f-ad91-0842af2480ae",
   "metadata": {},
   "outputs": [],
   "source": [
    "import os\n",
    "from getpass import getpass"
   ]
  },
  {
   "cell_type": "markdown",
   "id": "ed7c2988-cda3-4fef-9bbd-53ceb9901774",
   "metadata": {},
   "source": [
    "## Get the pelican command-line tool"
   ]
  },
  {
   "cell_type": "code",
   "execution_count": null,
   "id": "ce07a182-f2d2-44b9-b738-a3f4c99cc2f2",
   "metadata": {},
   "outputs": [],
   "source": [
    "version = \"7.12.0\"\n",
    "! wget -q https://dl.pelicanplatform.org/{version}/pelican_Darwin_arm64.tar.gz\n",
    "! tar -xzvf pelican_Darwin_arm64.tar.gz"
   ]
  },
  {
   "cell_type": "markdown",
   "id": "0f44cd3a-4b23-477f-ba2e-fa5f3dae39d8",
   "metadata": {},
   "source": [
    "## Add pelican executable to path"
   ]
  },
  {
   "cell_type": "code",
   "execution_count": null,
   "id": "1a29e469-d766-41f5-8d3f-7852690ed9a0",
   "metadata": {},
   "outputs": [],
   "source": [
    "os.environ[\"PATH\"] += os.pathsep + os.path.join(os.getcwd(), f\"pelican-{version}\")\n",
    "! which pelican"
   ]
  },
  {
   "cell_type": "markdown",
   "id": "fe96c666-f39f-4575-9aae-e89e3eca7f6d",
   "metadata": {},
   "source": [
    "## Get the pelicanfs python package"
   ]
  },
  {
   "cell_type": "code",
   "execution_count": null,
   "id": "7fd2895f-eef3-4948-863c-127a96a5fa9a",
   "metadata": {},
   "outputs": [],
   "source": [
    "! pip install pelicanfs -q"
   ]
  },
  {
   "cell_type": "markdown",
   "id": "4dd88684-1d9f-47dc-92e0-7471db400e20",
   "metadata": {},
   "source": [
    "## An example namespace: /ndp/burnpro3d"
   ]
  },
  {
   "cell_type": "code",
   "execution_count": null,
   "id": "7e42cfda-d92e-42c0-965e-54baba0a4687",
   "metadata": {},
   "outputs": [],
   "source": [
    "federation = \"osg-htc.org\"\n",
    "namespace = \"/ndp/burnpro3d\""
   ]
  },
  {
   "cell_type": "markdown",
   "id": "84149e18-c52f-4bb3-a378-aebcfa4a0d8e",
   "metadata": {},
   "source": [
    "## Use pelican command-line tool to list, get, put"
   ]
  },
  {
   "cell_type": "code",
   "execution_count": null,
   "id": "ef2f740a-13c2-4550-a4f2-6b4158bb9095",
   "metadata": {},
   "outputs": [],
   "source": [
    "! pelican object ls pelican://{federation}/{namespace}"
   ]
  },
  {
   "cell_type": "code",
   "execution_count": null,
   "id": "8f1ed5fa-9786-4acd-b26f-6df252e84eb7",
   "metadata": {},
   "outputs": [],
   "source": [
    "! pelican object get pelican://{federation}/{namespace}/jkb_00.txt ./\n",
    "! cat jkb_00.txt"
   ]
  },
  {
   "cell_type": "code",
   "execution_count": null,
   "id": "7ed32fa5-9956-4d15-a996-7198b01b1c24",
   "metadata": {},
   "outputs": [],
   "source": [
    "token = getpass(\"Enter namespace token:\") \n",
    "with open(\"token.txt\", \"w\") as fi:\n",
    "    fi.write(token)"
   ]
  },
  {
   "cell_type": "code",
   "execution_count": null,
   "id": "cd242b4e-474e-451f-be0a-620083db5335",
   "metadata": {},
   "outputs": [],
   "source": [
    "! pelican object put jkb_00.txt pelican://{federation}/{namespace}/jkb_02.txt -t token.txt"
   ]
  },
  {
   "cell_type": "code",
   "execution_count": null,
   "id": "e24f8d65-be1a-4454-956f-b9a88291e9e4",
   "metadata": {},
   "outputs": [],
   "source": [
    "! pelican object get pelican://{federation}/{namespace}/jkb_02.txt ./\n",
    "! cat jkb_02.txt"
   ]
  },
  {
   "cell_type": "markdown",
   "id": "8097221d-52c0-4454-a437-e11fdaf45f06",
   "metadata": {},
   "source": [
    "## Use pelicanfs python package to list, get"
   ]
  },
  {
   "cell_type": "code",
   "execution_count": null,
   "id": "d113a437-92f9-436b-ad98-4eccb7c607fd",
   "metadata": {},
   "outputs": [],
   "source": [
    "! pip install pillow -q"
   ]
  },
  {
   "cell_type": "code",
   "execution_count": null,
   "id": "23a5de4c-c609-4cbd-aa37-1f48e1bf2ef3",
   "metadata": {},
   "outputs": [],
   "source": [
    "import fsspec\n",
    "import pelicanfs\n",
    "from pelicanfs.core import PelicanFileSystem"
   ]
  },
  {
   "cell_type": "code",
   "execution_count": null,
   "id": "9d0b67d8-ac77-468c-8ab3-4219042705db",
   "metadata": {},
   "outputs": [],
   "source": [
    "pelfs = PelicanFileSystem(f\"pelican://{federation}\")\n",
    "for idx, obj in enumerate(pelfs.ls(namespace)):\n",
    "    if idx > 10:\n",
    "        print(\"... and more\")\n",
    "        break\n",
    "    print(obj)"
   ]
  },
  {
   "cell_type": "code",
   "execution_count": null,
   "id": "8bfa13b4-0296-4f8a-ae46-ca1dbc8437cd",
   "metadata": {},
   "outputs": [],
   "source": [
    "fpath = f\"pelican://{federation}/{namespace}/jkb_00.txt\"\n",
    "output = \"my_new_file.txt\"\n",
    "with fsspec.open(fpath, \"rb\") as fi:\n",
    "    print(fi)\n",
    "    with open(output, \"wb\") as fo:\n",
    "        fo.write(fi.read())\n",
    "\n",
    "! ls -ltrh {output}\n",
    "! cat {output}"
   ]
  },
  {
   "cell_type": "code",
   "execution_count": null,
   "id": "521518b2-280a-4a50-abee-7feb831370c3",
   "metadata": {},
   "outputs": [],
   "source": []
  }
 ],
 "metadata": {
  "kernelspec": {
   "display_name": "Python 3 (ipykernel)",
   "language": "python",
   "name": "python3"
  },
  "language_info": {
   "codemirror_mode": {
    "name": "ipython",
    "version": 3
   },
   "file_extension": ".py",
   "mimetype": "text/x-python",
   "name": "python",
   "nbconvert_exporter": "python",
   "pygments_lexer": "ipython3",
   "version": "3.13.0"
  }
 },
 "nbformat": 4,
 "nbformat_minor": 5
}
